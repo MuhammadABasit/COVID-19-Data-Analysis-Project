{
 "cells": [
  {
   "cell_type": "markdown",
   "metadata": {
    "id": "CG3JDGkmY8mc"
   },
   "source": [
    "# CMCSC 201, Section 60, Fall2020, Project 3 by Muhammad Basit; 12/13/21"
   ]
  },
  {
   "cell_type": "code",
   "execution_count": 5,
   "metadata": {
    "id": "WhzDxIqR7Tu0"
   },
   "outputs": [],
   "source": [
    "import os  \n",
    "import pandas as pd\n",
    "from plotnine import *"
   ]
  },
  {
   "cell_type": "code",
   "execution_count": 6,
   "metadata": {
    "id": "rogdwIkL8WrF"
   },
   "outputs": [],
   "source": [
    "database = []\n",
    "date = 9 \n",
    "DATA_DIRECTORY = \"data/\""
   ]
  },
  {
   "cell_type": "markdown",
   "metadata": {
    "id": "Ei3hApplRNER"
   },
   "source": [
    "# Reading and storing data in the list from the files"
   ]
  },
  {
   "cell_type": "code",
   "execution_count": 7,
   "metadata": {
    "colab": {
     "base_uri": "https://localhost:8080/"
    },
    "id": "rW0XjcAj8_Gy",
    "outputId": "e3a2010c-0b9b-4396-8919-088ac863d89b"
   },
   "outputs": [
    {
     "name": "stdout",
     "output_type": "stream",
     "text": [
      "data/11-18-2021.csv\n",
      "data/11-11-2021.csv\n",
      "data/11-13-2021.csv\n",
      "data/11-15-2021.csv\n",
      "data/11-19-2021.csv\n",
      "data/11-16-2021.csv\n",
      "data/11-12-2021.csv\n",
      "data/11-20-2021.csv\n",
      "data/11-22-2021.csv\n",
      "data/11-17-2021.csv\n",
      "data/11-21-2021.csv\n",
      "data/11-09-2021.csv\n",
      "data/11-10-2021.csv\n",
      "data/11-14-2021.csv\n"
     ]
    }
   ],
   "source": [
    "for file in os.listdir(DATA_DIRECTORY):\n",
    "    file = DATA_DIRECTORY + file\n",
    "    print(file) \n",
    "    if \".csv\" in file: \n",
    "        with open (file, \"r\") as infile:\n",
    "            infile.readline() \n",
    "            d = infile.read() \n",
    "            d_list = d.split('\\n') \n",
    "            for i in range(len(d_list)): \n",
    "                d_list[i] = d_list[i].split(',') \n",
    "\n",
    "                \n",
    "                if len(d_list[i]) < 2:\n",
    "                    continue\n",
    "                d_list[i].append(date) \n",
    "                database.append(d_list[i]) \n",
    "    date += 1\n",
    "\n"
   ]
  },
  {
   "cell_type": "markdown",
   "metadata": {
    "id": "UfHUTn6XZmMt"
   },
   "source": [
    "### Printing data"
   ]
  },
  {
   "cell_type": "markdown",
   "metadata": {
    "id": "3kX1hMqBRVF0"
   },
   "source": [
    "Prints first 10 lines of data"
   ]
  },
  {
   "cell_type": "code",
   "execution_count": 8,
   "metadata": {
    "colab": {
     "base_uri": "https://localhost:8080/"
    },
    "id": "KxKziv4iRUkK",
    "outputId": "c6cee4ec-5b47-4a2a-bba6-1f175c986856"
   },
   "outputs": [
    {
     "name": "stdout",
     "output_type": "stream",
     "text": [
      "['Alabama', 'US', '2021-11-19 04:31:51', '32.3182', '-86.9023', '841483', '16043', '', '', '1.0', '17161.967170318883', '6202255.0', '', '1.9065150454614057', '84000001.0', 'USA', '126494.41128572552', '', 9]\n",
      "['Alaska', 'US', '2021-11-19 04:31:51', '61.3707', '-152.4044', '147560', '842', '', '', '2.0', '20171.007935260306', '3455097.0', '', '0.5706153429113581', '84000002.0', 'USA', '472301.3621855115', '', 9]\n",
      "['American Samoa', 'US', '2021-11-19 04:31:51', '-14.270999999999999', '-170.132', '4', '0', '', '', '60.0', '7.1889434050430445', '2140.0', '', '0.0', '16.0', 'ASM', '3846.084721698028', '', 9]\n",
      "['Arizona', 'US', '2021-11-19 04:31:51', '33.7298', '-111.4312', '1228076', '21808', '', '', '4.0', '16872.149308731194', '14207322.0', '', '1.7757858634156192', '84000004.0', 'USA', '195189.92152050973', '', 9]\n",
      "['Arkansas', 'US', '2021-11-19 04:31:51', '34.9697', '-92.3731', '522460', '8599', '', '', '5.0', '17312.588889139253', '4174904.0', '', '1.6458676262297591', '84000005.0', 'USA', '138342.4503380604', '', 9]\n",
      "['California', 'US', '2021-11-19 04:31:51', '36.1162', '-119.6816', '5028939', '73552', '', '', '6.0', '12727.552686671159', '107800398.0', '', '1.4625749089420252', '84000006.0', 'USA', '272827.9752824841', '', 9]\n",
      "['Colorado', 'US', '2021-11-19 04:31:51', '39.0598', '-105.3111', '801018', '8834', '', '', '8.0', '13909.61488771147', '12709412.0', '', '1.1028466276662947', '84000008.0', 'USA', '220697.94482678146', '', 9]\n",
      "['Connecticut', 'US', '2021-11-19 04:31:51', '41.5978', '-72.7554', '412058', '8834', '', '', '9.0', '11557.498737128315', '10917541.0', '', '2.1438729499245253', '84000009.0', 'USA', '306217.7322611055', '', 9]\n",
      "['Delaware', 'US', '2021-11-19 04:31:51', '39.3185', '-75.5071', '149096', '2154', '', '', '10.0', '15311.307462588471', '2470082.0', '', '1.4447067661104256', '84000010.0', 'USA', '253663.3106173569', '', 9]\n",
      "['Diamond Princess', 'US', '2021-11-19 04:31:51', '', '', '49', '0', '', '', '88888.0', '', '', '', '0.0', '84088888.0', 'USA', '', '', 9]\n"
     ]
    }
   ],
   "source": [
    "for each in database[:10]:\n",
    "    print(each)"
   ]
  },
  {
   "cell_type": "markdown",
   "metadata": {
    "id": "qd5QLQDGRjkz"
   },
   "source": [
    "Prints last 10 lines of data"
   ]
  },
  {
   "cell_type": "code",
   "execution_count": 9,
   "metadata": {
    "colab": {
     "base_uri": "https://localhost:8080/"
    },
    "id": "ga2r6AfZQ7SB",
    "outputId": "a6e45b08-5955-478f-9884-e325a8b6ebb5"
   },
   "outputs": [
    {
     "name": "stdout",
     "output_type": "stream",
     "text": [
      "['Tennessee', 'US', '2021-11-15 04:32:31', '35.7478', '-86.6923', '1294801', '16660', '', '', '47.0', '18959.847852756422', '10495196.0', '', '1.2866842086158414', '84000047.0', 'USA', '153681.77762054387', '', 22]\n",
      "['Texas', 'US', '2021-11-15 04:32:31', '31.0545', '-97.5635', '4283899', '72789', '', '', '48.0', '14774.163957977342', '35928110.0', '', '1.6991296947010188', '84000048.0', 'USA', '123907.63363941244', '', 22]\n",
      "['Utah', 'US', '2021-11-15 04:32:31', '40.15', '-111.8624', '571507', '3347', '', '', '49.0', '17826.403215513114', '4613666.0', '', '0.5856446202758672', '84000049.0', 'USA', '143909.12170402732', '', 22]\n",
      "['Vermont', 'US', '2021-11-15 04:32:31', '44.0459', '-72.7107', '44801', '393', '', '', '50.0', '7179.774002426325', '2435637.0', '', '0.8772125622195933', '84000050.0', 'USA', '390333.3231835817', '', 22]\n",
      "['Virgin Islands', 'US', '2021-11-15 04:32:31', '18.3358', '-64.8963', '7357', '84', '', '', '78.0', '6858.522578961107', '213123.0', '', '1.141769743101808', '850.0', 'VIR', '198682.73856136034', '', 22]\n",
      "['Virginia', 'US', '2021-11-15 04:32:31', '37.7693', '-78.17', '942837', '14321', '', '', '51.0', '11046.041839986534', '10166445.0', '', '1.5189263891849811', '84000051.0', 'USA', '119107.5199996626', '', 22]\n",
      "['Washington', 'US', '2021-11-15 04:32:31', '47.4009', '-121.4905', '750477', '8934', '', '', '53.0', '9855.384704683309', '9842443.0', '', '1.1904428783293826', '84000053.0', 'USA', '129252.54497994915', '', 22]\n",
      "['West Virginia', 'US', '2021-11-15 04:32:31', '38.4912', '-80.9545', '283075', '4610', '', '', '54.0', '15795.300273917263', '4448887.0', '', '1.628543672171686', '84000054.0', 'USA', '248243.4197641153', '', 22]\n",
      "['Wisconsin', 'US', '2021-11-15 04:32:31', '44.2685', '-89.6165', '921221', '9679', '', '', '55.0', '15821.922584266304', '11881624.0', '', '1.0506707945216185', '84000055.0', 'USA', '204066.2719405664', '', 22]\n",
      "['Wyoming', 'US', '2021-11-15 04:32:31', '42.756', '-107.3025', '107483', '1298', '', '', '56.0', '18571.287876300845', '1114457.0', '', '1.2076328349599472', '84000056.0', 'USA', '192559.77012884466', '', 22]\n"
     ]
    }
   ],
   "source": [
    "for each in database[-10:]:\n",
    "    print(each)"
   ]
  },
  {
   "cell_type": "markdown",
   "metadata": {
    "id": "pMlxfOc_R2ES"
   },
   "source": [
    "# Extracting the data and storing it in `better_db`"
   ]
  },
  {
   "cell_type": "code",
   "execution_count": 10,
   "metadata": {
    "id": "rtid3EHIR9Ik"
   },
   "outputs": [],
   "source": [
    "better_db = []"
   ]
  },
  {
   "cell_type": "markdown",
   "metadata": {
    "id": "nf0plcEITgQP"
   },
   "source": [
    "Now extracting index 0, 5, 6, 10, 11, 13, and 18 from the database list and storing them in `better_db`"
   ]
  },
  {
   "cell_type": "code",
   "execution_count": 11,
   "metadata": {
    "id": "c8PCtoISTusN"
   },
   "outputs": [],
   "source": [
    "for each in database:\n",
    "    temp = [each[0], each[5], each[6], each[10], each[11], each[13], each[18]]\n",
    "    better_db.append(temp)"
   ]
  },
  {
   "cell_type": "markdown",
   "metadata": {
    "id": "P_FTjiu7Z1d9"
   },
   "source": [
    "### Printing data"
   ]
  },
  {
   "cell_type": "markdown",
   "metadata": {
    "id": "yBhJu233WTq4"
   },
   "source": [
    "Prints the first 10 lines of `better_db`"
   ]
  },
  {
   "cell_type": "code",
   "execution_count": 12,
   "metadata": {
    "colab": {
     "base_uri": "https://localhost:8080/"
    },
    "id": "4hm73QoTWbRl",
    "outputId": "83c04aae-3d0a-4be9-e6ca-2ebcbc4ee5e3"
   },
   "outputs": [
    {
     "name": "stdout",
     "output_type": "stream",
     "text": [
      "['Alabama', '841483', '16043', '17161.967170318883', '6202255.0', '1.9065150454614057', 9]\n",
      "['Alaska', '147560', '842', '20171.007935260306', '3455097.0', '0.5706153429113581', 9]\n",
      "['American Samoa', '4', '0', '7.1889434050430445', '2140.0', '0.0', 9]\n",
      "['Arizona', '1228076', '21808', '16872.149308731194', '14207322.0', '1.7757858634156192', 9]\n",
      "['Arkansas', '522460', '8599', '17312.588889139253', '4174904.0', '1.6458676262297591', 9]\n",
      "['California', '5028939', '73552', '12727.552686671159', '107800398.0', '1.4625749089420252', 9]\n",
      "['Colorado', '801018', '8834', '13909.61488771147', '12709412.0', '1.1028466276662947', 9]\n",
      "['Connecticut', '412058', '8834', '11557.498737128315', '10917541.0', '2.1438729499245253', 9]\n",
      "['Delaware', '149096', '2154', '15311.307462588471', '2470082.0', '1.4447067661104256', 9]\n",
      "['Diamond Princess', '49', '0', '', '', '0.0', 9]\n"
     ]
    }
   ],
   "source": [
    "for each in better_db[:10]:\n",
    "    print(each)"
   ]
  },
  {
   "cell_type": "markdown",
   "metadata": {
    "id": "SHkke4qfWURH"
   },
   "source": [
    "Prints the last 10 lines of `better_db`"
   ]
  },
  {
   "cell_type": "code",
   "execution_count": 13,
   "metadata": {
    "colab": {
     "base_uri": "https://localhost:8080/"
    },
    "id": "V_J0fPEMWju3",
    "outputId": "109c1728-ffa2-4ea0-f630-4ca01ae42317"
   },
   "outputs": [
    {
     "name": "stdout",
     "output_type": "stream",
     "text": [
      "['Tennessee', '1294801', '16660', '18959.847852756422', '10495196.0', '1.2866842086158414', 22]\n",
      "['Texas', '4283899', '72789', '14774.163957977342', '35928110.0', '1.6991296947010188', 22]\n",
      "['Utah', '571507', '3347', '17826.403215513114', '4613666.0', '0.5856446202758672', 22]\n",
      "['Vermont', '44801', '393', '7179.774002426325', '2435637.0', '0.8772125622195933', 22]\n",
      "['Virgin Islands', '7357', '84', '6858.522578961107', '213123.0', '1.141769743101808', 22]\n",
      "['Virginia', '942837', '14321', '11046.041839986534', '10166445.0', '1.5189263891849811', 22]\n",
      "['Washington', '750477', '8934', '9855.384704683309', '9842443.0', '1.1904428783293826', 22]\n",
      "['West Virginia', '283075', '4610', '15795.300273917263', '4448887.0', '1.628543672171686', 22]\n",
      "['Wisconsin', '921221', '9679', '15821.922584266304', '11881624.0', '1.0506707945216185', 22]\n",
      "['Wyoming', '107483', '1298', '18571.287876300845', '1114457.0', '1.2076328349599472', 22]\n"
     ]
    }
   ],
   "source": [
    "for each in better_db[-10:]:\n",
    "    print(each)"
   ]
  },
  {
   "cell_type": "markdown",
   "metadata": {
    "id": "XtFtvVzqZ47V"
   },
   "source": [
    "# Dataframe work"
   ]
  },
  {
   "cell_type": "markdown",
   "metadata": {
    "id": "AuwHRNT5XQS2"
   },
   "source": [
    "Now converting `better_db` to dataframe `df` by creating dataframe first"
   ]
  },
  {
   "cell_type": "code",
   "execution_count": 2,
   "metadata": {
    "colab": {
     "base_uri": "https://localhost:8080/",
     "height": 424
    },
    "id": "PybO0eQ3XWOH",
    "outputId": "b966e756-2ec4-4153-cfbd-6525a68fb863"
   },
   "outputs": [
    {
     "ename": "NameError",
     "evalue": "name 'pd' is not defined",
     "output_type": "error",
     "traceback": [
      "\u001b[1;31m---------------------------------------------------------------------------\u001b[0m",
      "\u001b[1;31mNameError\u001b[0m                                 Traceback (most recent call last)",
      "\u001b[1;32m~\\AppData\\Local\\Temp/ipykernel_7156/749267875.py\u001b[0m in \u001b[0;36m<module>\u001b[1;34m\u001b[0m\n\u001b[1;32m----> 1\u001b[1;33m \u001b[0mdf\u001b[0m \u001b[1;33m=\u001b[0m \u001b[0mpd\u001b[0m\u001b[1;33m.\u001b[0m\u001b[0mDataFrame\u001b[0m\u001b[1;33m(\u001b[0m\u001b[0mbetter_db\u001b[0m\u001b[1;33m)\u001b[0m\u001b[1;33m\u001b[0m\u001b[1;33m\u001b[0m\u001b[0m\n\u001b[0m\u001b[0;32m      2\u001b[0m \u001b[0mdf\u001b[0m\u001b[1;33m.\u001b[0m\u001b[0mcolumns\u001b[0m \u001b[1;33m=\u001b[0m \u001b[1;33m[\u001b[0m\u001b[1;34m\"State\"\u001b[0m\u001b[1;33m,\u001b[0m \u001b[1;34m\"Confirmed\"\u001b[0m\u001b[1;33m,\u001b[0m \u001b[1;34m\"Deaths\"\u001b[0m\u001b[1;33m,\u001b[0m \u001b[1;34m\"I_rate\"\u001b[0m\u001b[1;33m,\u001b[0m \u001b[1;34m\"Tests\"\u001b[0m\u001b[1;33m,\u001b[0m \u001b[1;34m\"Fatality_ratio\"\u001b[0m\u001b[1;33m,\u001b[0m\u001b[1;34m\"Date\"\u001b[0m\u001b[1;33m]\u001b[0m\u001b[1;33m\u001b[0m\u001b[1;33m\u001b[0m\u001b[0m\n\u001b[0;32m      3\u001b[0m \u001b[0mdf\u001b[0m\u001b[1;33m\u001b[0m\u001b[1;33m\u001b[0m\u001b[0m\n",
      "\u001b[1;31mNameError\u001b[0m: name 'pd' is not defined"
     ]
    }
   ],
   "source": [
    "df = pd.DataFrame(better_db)\n",
    "df.columns = [\"State\", \"Confirmed\", \"Deaths\", \"I_rate\", \"Tests\", \"Fatality_ratio\",\"Date\"]   \n",
    "df  "
   ]
  },
  {
   "cell_type": "markdown",
   "metadata": {
    "id": "QMvHFtneaIg-"
   },
   "source": [
    "# Graphical Analysis"
   ]
  },
  {
   "cell_type": "markdown",
   "metadata": {
    "id": "FCek4SY1aXN6"
   },
   "source": [
    "Creating a new dataframe `step11_Adf` where we will extract all the states which start with the letter A for the November 11"
   ]
  },
  {
   "cell_type": "code",
   "execution_count": 15,
   "metadata": {
    "colab": {
     "base_uri": "https://localhost:8080/",
     "height": 206
    },
    "id": "fGk4MefgXrvO",
    "outputId": "6e8fdd51-b491-4dd0-908d-bdf3a728a5fc"
   },
   "outputs": [
    {
     "data": {
      "text/html": [
       "<div>\n",
       "<style scoped>\n",
       "    .dataframe tbody tr th:only-of-type {\n",
       "        vertical-align: middle;\n",
       "    }\n",
       "\n",
       "    .dataframe tbody tr th {\n",
       "        vertical-align: top;\n",
       "    }\n",
       "\n",
       "    .dataframe thead th {\n",
       "        text-align: right;\n",
       "    }\n",
       "</style>\n",
       "<table border=\"1\" class=\"dataframe\">\n",
       "  <thead>\n",
       "    <tr style=\"text-align: right;\">\n",
       "      <th></th>\n",
       "      <th>State</th>\n",
       "      <th>Confirmed</th>\n",
       "      <th>Deaths</th>\n",
       "      <th>I_rate</th>\n",
       "      <th>Tests</th>\n",
       "      <th>Fatality_ratio</th>\n",
       "      <th>Date</th>\n",
       "    </tr>\n",
       "  </thead>\n",
       "  <tbody>\n",
       "    <tr>\n",
       "      <th>116</th>\n",
       "      <td>Alabama</td>\n",
       "      <td>839436</td>\n",
       "      <td>15981</td>\n",
       "      <td>17120.21879655775</td>\n",
       "      <td>6149027.0</td>\n",
       "      <td>1.9037782511114605</td>\n",
       "      <td>11</td>\n",
       "    </tr>\n",
       "    <tr>\n",
       "      <th>117</th>\n",
       "      <td>Alaska</td>\n",
       "      <td>145167</td>\n",
       "      <td>831</td>\n",
       "      <td>19843.89203671681</td>\n",
       "      <td>3423963.0</td>\n",
       "      <td>0.5724441505300791</td>\n",
       "      <td>11</td>\n",
       "    </tr>\n",
       "    <tr>\n",
       "      <th>118</th>\n",
       "      <td>American Samoa</td>\n",
       "      <td>4</td>\n",
       "      <td>0</td>\n",
       "      <td>7.1889434050430445</td>\n",
       "      <td>2140.0</td>\n",
       "      <td>0.0</td>\n",
       "      <td>11</td>\n",
       "    </tr>\n",
       "    <tr>\n",
       "      <th>119</th>\n",
       "      <td>Arizona</td>\n",
       "      <td>1211333</td>\n",
       "      <td>21651</td>\n",
       "      <td>16642.122505930645</td>\n",
       "      <td>14065735.0</td>\n",
       "      <td>1.7873697818849152</td>\n",
       "      <td>11</td>\n",
       "    </tr>\n",
       "    <tr>\n",
       "      <th>120</th>\n",
       "      <td>Arkansas</td>\n",
       "      <td>519453</td>\n",
       "      <td>8562</td>\n",
       "      <td>17212.94689781046</td>\n",
       "      <td>4151457.0</td>\n",
       "      <td>1.648272317226005</td>\n",
       "      <td>11</td>\n",
       "    </tr>\n",
       "  </tbody>\n",
       "</table>\n",
       "</div>"
      ],
      "text/plain": [
       "              State Confirmed Deaths  ...       Tests      Fatality_ratio Date\n",
       "116         Alabama    839436  15981  ...   6149027.0  1.9037782511114605   11\n",
       "117          Alaska    145167    831  ...   3423963.0  0.5724441505300791   11\n",
       "118  American Samoa         4      0  ...      2140.0                 0.0   11\n",
       "119         Arizona   1211333  21651  ...  14065735.0  1.7873697818849152   11\n",
       "120        Arkansas    519453   8562  ...   4151457.0   1.648272317226005   11\n",
       "\n",
       "[5 rows x 7 columns]"
      ]
     },
     "execution_count": 15,
     "metadata": {},
     "output_type": "execute_result"
    }
   ],
   "source": [
    "step11_Adf = df[(df['State'].str.startswith(\"A\")) & (df['Date']==11)]\n",
    "step11_Adf"
   ]
  },
  {
   "cell_type": "markdown",
   "metadata": {
    "id": "dMWbCyJAi9aE"
   },
   "source": [
    "Creating a new object of ggplot"
   ]
  },
  {
   "cell_type": "code",
   "execution_count": 38,
   "metadata": {
    "colab": {
     "base_uri": "https://localhost:8080/",
     "height": 519
    },
    "id": "PS8Jf6OniZ90",
    "outputId": "99d39406-cb57-49cf-ffa9-13b0e28b7716"
   },
   "outputs": [
    {
     "name": "stderr",
     "output_type": "stream",
     "text": [
      "/usr/local/lib/python3.7/dist-packages/plotnine/utils.py:1246: FutureWarning: is_categorical is deprecated and will be removed in a future version.  Use is_categorical_dtype instead\n",
      "  if pdtypes.is_categorical(arr):\n"
     ]
    },
    {
     "data": {
      "image/png": "[encoded data removed]",
      "text/plain": [
       "<Figure size 640x480 with 1 Axes>"
      ]
     },
     "metadata": {},
     "output_type": "display_data"
    },
    {
     "data": {
      "text/plain": [
       "<ggplot: (8752952733109)>"
      ]
     },
     "execution_count": 38,
     "metadata": {},
     "output_type": "execute_result"
    }
   ],
   "source": [
    "step11_graph = ggplot(step11_Adf, aes(x='State', y='Confirmed')) + geom_col()\n",
    "step11_graph"
   ]
  },
  {
   "cell_type": "markdown",
   "metadata": {
    "id": "OqkpraAGjPcH"
   },
   "source": [
    "Creating a new dataframe `step11_Mdf` where we will extract all the states which start with the letter M for the 16th of November"
   ]
  },
  {
   "cell_type": "code",
   "execution_count": 17,
   "metadata": {
    "colab": {
     "base_uri": "https://localhost:8080/",
     "height": 300
    },
    "id": "8Snj8AtOhzCf",
    "outputId": "86562415-1df3-41cd-c420-d19c55ab4abc"
   },
   "outputs": [
    {
     "data": {
      "text/html": [
       "<div>\n",
       "<style scoped>\n",
       "    .dataframe tbody tr th:only-of-type {\n",
       "        vertical-align: middle;\n",
       "    }\n",
       "\n",
       "    .dataframe tbody tr th {\n",
       "        vertical-align: top;\n",
       "    }\n",
       "\n",
       "    .dataframe thead th {\n",
       "        text-align: right;\n",
       "    }\n",
       "</style>\n",
       "<table border=\"1\" class=\"dataframe\">\n",
       "  <thead>\n",
       "    <tr style=\"text-align: right;\">\n",
       "      <th></th>\n",
       "      <th>State</th>\n",
       "      <th>Confirmed</th>\n",
       "      <th>Deaths</th>\n",
       "      <th>I_rate</th>\n",
       "      <th>Tests</th>\n",
       "      <th>Fatality_ratio</th>\n",
       "      <th>Date</th>\n",
       "    </tr>\n",
       "  </thead>\n",
       "  <tbody>\n",
       "    <tr>\n",
       "      <th>429</th>\n",
       "      <td>Maine</td>\n",
       "      <td>115863</td>\n",
       "      <td>1271</td>\n",
       "      <td>8619.399320940447</td>\n",
       "      <td>3084287.0</td>\n",
       "      <td>1.0969852325591432</td>\n",
       "      <td>16</td>\n",
       "    </tr>\n",
       "    <tr>\n",
       "      <th>430</th>\n",
       "      <td>Maryland</td>\n",
       "      <td>577013</td>\n",
       "      <td>11111</td>\n",
       "      <td>9544.220005028385</td>\n",
       "      <td>14741221.0</td>\n",
       "      <td>1.925606528795712</td>\n",
       "      <td>16</td>\n",
       "    </tr>\n",
       "    <tr>\n",
       "      <th>431</th>\n",
       "      <td>Massachusetts</td>\n",
       "      <td>890733</td>\n",
       "      <td>19268</td>\n",
       "      <td>12923.21526737094</td>\n",
       "      <td>32701639.0</td>\n",
       "      <td>2.1631622495180927</td>\n",
       "      <td>16</td>\n",
       "    </tr>\n",
       "    <tr>\n",
       "      <th>432</th>\n",
       "      <td>Michigan</td>\n",
       "      <td>1408419</td>\n",
       "      <td>24841</td>\n",
       "      <td>14102.725211745796</td>\n",
       "      <td>18329235.0</td>\n",
       "      <td>1.7637507020283028</td>\n",
       "      <td>16</td>\n",
       "    </tr>\n",
       "    <tr>\n",
       "      <th>433</th>\n",
       "      <td>Minnesota</td>\n",
       "      <td>871203</td>\n",
       "      <td>9279</td>\n",
       "      <td>15447.869648232368</td>\n",
       "      <td>12684764.0</td>\n",
       "      <td>1.0650789770007678</td>\n",
       "      <td>16</td>\n",
       "    </tr>\n",
       "    <tr>\n",
       "      <th>434</th>\n",
       "      <td>Mississippi</td>\n",
       "      <td>510748</td>\n",
       "      <td>10229</td>\n",
       "      <td>17161.371960879642</td>\n",
       "      <td>2630658.0</td>\n",
       "      <td>2.0027489094426216</td>\n",
       "      <td>16</td>\n",
       "    </tr>\n",
       "    <tr>\n",
       "      <th>435</th>\n",
       "      <td>Missouri</td>\n",
       "      <td>895936</td>\n",
       "      <td>13002</td>\n",
       "      <td>14597.906484605603</td>\n",
       "      <td>7723321.0</td>\n",
       "      <td>1.4512197299807128</td>\n",
       "      <td>16</td>\n",
       "    </tr>\n",
       "    <tr>\n",
       "      <th>436</th>\n",
       "      <td>Montana</td>\n",
       "      <td>188013</td>\n",
       "      <td>2547</td>\n",
       "      <td>17591.398775049634</td>\n",
       "      <td>2158198.0</td>\n",
       "      <td>1.3546935584241515</td>\n",
       "      <td>16</td>\n",
       "    </tr>\n",
       "  </tbody>\n",
       "</table>\n",
       "</div>"
      ],
      "text/plain": [
       "             State Confirmed Deaths  ...       Tests      Fatality_ratio Date\n",
       "429          Maine    115863   1271  ...   3084287.0  1.0969852325591432   16\n",
       "430       Maryland    577013  11111  ...  14741221.0   1.925606528795712   16\n",
       "431  Massachusetts    890733  19268  ...  32701639.0  2.1631622495180927   16\n",
       "432       Michigan   1408419  24841  ...  18329235.0  1.7637507020283028   16\n",
       "433      Minnesota    871203   9279  ...  12684764.0  1.0650789770007678   16\n",
       "434    Mississippi    510748  10229  ...   2630658.0  2.0027489094426216   16\n",
       "435       Missouri    895936  13002  ...   7723321.0  1.4512197299807128   16\n",
       "436        Montana    188013   2547  ...   2158198.0  1.3546935584241515   16\n",
       "\n",
       "[8 rows x 7 columns]"
      ]
     },
     "execution_count": 17,
     "metadata": {},
     "output_type": "execute_result"
    }
   ],
   "source": [
    "step11_Mdf = df[(df['State'].str.startswith(\"M\")) & (df['Date']==16)]\n",
    "step11_Mdf"
   ]
  },
  {
   "cell_type": "markdown",
   "metadata": {
    "id": "baR5VPahjaI4"
   },
   "source": [
    "Using the above ggplot object `ggplot_obj` and plotting the graph the states that start with the letter M"
   ]
  },
  {
   "cell_type": "code",
   "execution_count": 63,
   "metadata": {
    "colab": {
     "base_uri": "https://localhost:8080/",
     "height": 580
    },
    "id": "8dNc9ftkjZpf",
    "outputId": "5235bc25-ffc2-4c64-b128-85e9aa6d6a7f"
   },
   "outputs": [
    {
     "name": "stderr",
     "output_type": "stream",
     "text": [
      "/usr/local/lib/python3.7/dist-packages/plotnine/utils.py:1246: FutureWarning: is_categorical is deprecated and will be removed in a future version.  Use is_categorical_dtype instead\n",
      "  if pdtypes.is_categorical(arr):\n"
     ]
    },
    {
     "data": {
      "image/png": "[encoded data removed]",
      "text/plain": [
       "<Figure size 640x480 with 1 Axes>"
      ]
     },
     "metadata": {},
     "output_type": "display_data"
    },
    {
     "data": {
      "text/plain": [
       "<ggplot: (8752952944225)>"
      ]
     },
     "execution_count": 63,
     "metadata": {},
     "output_type": "execute_result"
    }
   ],
   "source": [
    "(ggplot_obj + geom_col(step11_Mdf, aes(x='State', y='Confirmed', scales = 'Confirmed')) + \n",
    "    theme(axis_text_x  = element_text(angle = 45, hjust = 1))\n",
    "    # scale_y_discrete(breaks=list(range(int(int(min(step11_Mdf['Confirmed']))*0.85),int(int(max(step11_Mdf['Confirmed']))*1.10))))\n",
    ")"
   ]
  },
  {
   "cell_type": "markdown",
   "metadata": {
    "id": "mNLMY3MKqIYt"
   },
   "source": [
    "Creating multiline graph of Maryland, New York, Michigan, and California for the 14th of November"
   ]
  },
  {
   "cell_type": "code",
   "execution_count": 33,
   "metadata": {
    "colab": {
     "base_uri": "https://localhost:8080/",
     "height": 1000
    },
    "id": "QRccgRgkqRcR",
    "outputId": "3d361621-f132-41f4-d60c-060132166a44"
   },
   "outputs": [
    {
     "data": {
      "text/html": [
       "<div>\n",
       "<style scoped>\n",
       "    .dataframe tbody tr th:only-of-type {\n",
       "        vertical-align: middle;\n",
       "    }\n",
       "\n",
       "    .dataframe tbody tr th {\n",
       "        vertical-align: top;\n",
       "    }\n",
       "\n",
       "    .dataframe thead th {\n",
       "        text-align: right;\n",
       "    }\n",
       "</style>\n",
       "<table border=\"1\" class=\"dataframe\">\n",
       "  <thead>\n",
       "    <tr style=\"text-align: right;\">\n",
       "      <th></th>\n",
       "      <th>State</th>\n",
       "      <th>Confirmed</th>\n",
       "      <th>Deaths</th>\n",
       "      <th>I_rate</th>\n",
       "      <th>Tests</th>\n",
       "      <th>Fatality_ratio</th>\n",
       "      <th>Date</th>\n",
       "    </tr>\n",
       "  </thead>\n",
       "  <tbody>\n",
       "    <tr>\n",
       "      <th>5</th>\n",
       "      <td>California</td>\n",
       "      <td>5028939</td>\n",
       "      <td>73552</td>\n",
       "      <td>12727.552686671159</td>\n",
       "      <td>107800398.0</td>\n",
       "      <td>1.4625749089420252</td>\n",
       "      <td>9</td>\n",
       "    </tr>\n",
       "    <tr>\n",
       "      <th>24</th>\n",
       "      <td>Maryland</td>\n",
       "      <td>574914</td>\n",
       "      <td>11096</td>\n",
       "      <td>9509.500999060489</td>\n",
       "      <td>14649998.0</td>\n",
       "      <td>1.9300277954615817</td>\n",
       "      <td>9</td>\n",
       "    </tr>\n",
       "    <tr>\n",
       "      <th>26</th>\n",
       "      <td>Michigan</td>\n",
       "      <td>1387938</td>\n",
       "      <td>24684</td>\n",
       "      <td>13897.645675711587</td>\n",
       "      <td>18209345.0</td>\n",
       "      <td>1.7784656086943365</td>\n",
       "      <td>9</td>\n",
       "    </tr>\n",
       "    <tr>\n",
       "      <th>36</th>\n",
       "      <td>New York</td>\n",
       "      <td>2652280</td>\n",
       "      <td>57097</td>\n",
       "      <td>13633.904867083203</td>\n",
       "      <td>78579801.0</td>\n",
       "      <td>2.1527515948542386</td>\n",
       "      <td>9</td>\n",
       "    </tr>\n",
       "    <tr>\n",
       "      <th>63</th>\n",
       "      <td>California</td>\n",
       "      <td>4991264</td>\n",
       "      <td>72960</td>\n",
       "      <td>12634.09299952574</td>\n",
       "      <td>105528939.0</td>\n",
       "      <td>1.4615352410080826</td>\n",
       "      <td>10</td>\n",
       "    </tr>\n",
       "    <tr>\n",
       "      <th>82</th>\n",
       "      <td>Maryland</td>\n",
       "      <td>568914</td>\n",
       "      <td>11020</td>\n",
       "      <td>9410.25657990499</td>\n",
       "      <td>14418694.0</td>\n",
       "      <td>1.9370238735555807</td>\n",
       "      <td>10</td>\n",
       "    </tr>\n",
       "    <tr>\n",
       "      <th>84</th>\n",
       "      <td>Michigan</td>\n",
       "      <td>1329089</td>\n",
       "      <td>24217</td>\n",
       "      <td>13308.381205418282</td>\n",
       "      <td>17895743.0</td>\n",
       "      <td>1.8220751206277384</td>\n",
       "      <td>10</td>\n",
       "    </tr>\n",
       "    <tr>\n",
       "      <th>94</th>\n",
       "      <td>New York</td>\n",
       "      <td>2610481</td>\n",
       "      <td>56868</td>\n",
       "      <td>13419.039321386968</td>\n",
       "      <td>77431122.0</td>\n",
       "      <td>2.1784491057395168</td>\n",
       "      <td>10</td>\n",
       "    </tr>\n",
       "    <tr>\n",
       "      <th>121</th>\n",
       "      <td>California</td>\n",
       "      <td>5003487</td>\n",
       "      <td>73105</td>\n",
       "      <td>12665.199829429996</td>\n",
       "      <td>105713064.0</td>\n",
       "      <td>1.4608430906048435</td>\n",
       "      <td>11</td>\n",
       "    </tr>\n",
       "    <tr>\n",
       "      <th>140</th>\n",
       "      <td>Maryland</td>\n",
       "      <td>570806</td>\n",
       "      <td>11050</td>\n",
       "      <td>9441.551653412023</td>\n",
       "      <td>14505234.0</td>\n",
       "      <td>1.935859118509616</td>\n",
       "      <td>11</td>\n",
       "    </tr>\n",
       "    <tr>\n",
       "      <th>142</th>\n",
       "      <td>Michigan</td>\n",
       "      <td>1346868</td>\n",
       "      <td>24308</td>\n",
       "      <td>13486.405182331138</td>\n",
       "      <td>17999860.0</td>\n",
       "      <td>1.8047796814535648</td>\n",
       "      <td>11</td>\n",
       "    </tr>\n",
       "    <tr>\n",
       "      <th>152</th>\n",
       "      <td>New York</td>\n",
       "      <td>2622131</td>\n",
       "      <td>56922</td>\n",
       "      <td>13478.92552936709</td>\n",
       "      <td>77844664.0</td>\n",
       "      <td>2.1708297564080508</td>\n",
       "      <td>11</td>\n",
       "    </tr>\n",
       "    <tr>\n",
       "      <th>179</th>\n",
       "      <td>California</td>\n",
       "      <td>5013920</td>\n",
       "      <td>73233</td>\n",
       "      <td>12686.443888515207</td>\n",
       "      <td>106608220.0</td>\n",
       "      <td>1.4609503548589422</td>\n",
       "      <td>12</td>\n",
       "    </tr>\n",
       "    <tr>\n",
       "      <th>198</th>\n",
       "      <td>Maryland</td>\n",
       "      <td>572342</td>\n",
       "      <td>11068</td>\n",
       "      <td>9466.95822471583</td>\n",
       "      <td>14575761.0</td>\n",
       "      <td>1.9338088066226136</td>\n",
       "      <td>12</td>\n",
       "    </tr>\n",
       "    <tr>\n",
       "      <th>200</th>\n",
       "      <td>Michigan</td>\n",
       "      <td>1370035</td>\n",
       "      <td>24408</td>\n",
       "      <td>13718.380066921956</td>\n",
       "      <td>17999860.0</td>\n",
       "      <td>1.7815603251011836</td>\n",
       "      <td>12</td>\n",
       "    </tr>\n",
       "    <tr>\n",
       "      <th>210</th>\n",
       "      <td>New York</td>\n",
       "      <td>2633082</td>\n",
       "      <td>56976</td>\n",
       "      <td>13535.218564868406</td>\n",
       "      <td>78203615.0</td>\n",
       "      <td>2.163852094237855</td>\n",
       "      <td>12</td>\n",
       "    </tr>\n",
       "    <tr>\n",
       "      <th>237</th>\n",
       "      <td>California</td>\n",
       "      <td>5035053</td>\n",
       "      <td>73694</td>\n",
       "      <td>12743.026379457311</td>\n",
       "      <td>107989717.0</td>\n",
       "      <td>1.4636191515759616</td>\n",
       "      <td>13</td>\n",
       "    </tr>\n",
       "    <tr>\n",
       "      <th>256</th>\n",
       "      <td>Maryland</td>\n",
       "      <td>575996</td>\n",
       "      <td>11102</td>\n",
       "      <td>9527.398075981528</td>\n",
       "      <td>14691151.0</td>\n",
       "      <td>1.927443940582921</td>\n",
       "      <td>13</td>\n",
       "    </tr>\n",
       "    <tr>\n",
       "      <th>258</th>\n",
       "      <td>Michigan</td>\n",
       "      <td>1408419</td>\n",
       "      <td>24841</td>\n",
       "      <td>14102.725211745796</td>\n",
       "      <td>18209345.0</td>\n",
       "      <td>1.7637507020283028</td>\n",
       "      <td>13</td>\n",
       "    </tr>\n",
       "    <tr>\n",
       "      <th>268</th>\n",
       "      <td>New York</td>\n",
       "      <td>2659870</td>\n",
       "      <td>57141</td>\n",
       "      <td>13672.920860093427</td>\n",
       "      <td>78797140.0</td>\n",
       "      <td>2.1482628850282155</td>\n",
       "      <td>13</td>\n",
       "    </tr>\n",
       "    <tr>\n",
       "      <th>295</th>\n",
       "      <td>California</td>\n",
       "      <td>5018987</td>\n",
       "      <td>73299</td>\n",
       "      <td>12699.002027802893</td>\n",
       "      <td>107384785.0</td>\n",
       "      <td>1.460820964681132</td>\n",
       "      <td>14</td>\n",
       "    </tr>\n",
       "    <tr>\n",
       "      <th>314</th>\n",
       "      <td>Maryland</td>\n",
       "      <td>573044</td>\n",
       "      <td>11075</td>\n",
       "      <td>9478.569821757024</td>\n",
       "      <td>14598220.0</td>\n",
       "      <td>1.9326613663174208</td>\n",
       "      <td>14</td>\n",
       "    </tr>\n",
       "    <tr>\n",
       "      <th>316</th>\n",
       "      <td>Michigan</td>\n",
       "      <td>1370035</td>\n",
       "      <td>24408</td>\n",
       "      <td>13718.380066921956</td>\n",
       "      <td>18115346.0</td>\n",
       "      <td>1.7815603251011836</td>\n",
       "      <td>14</td>\n",
       "    </tr>\n",
       "    <tr>\n",
       "      <th>326</th>\n",
       "      <td>New York</td>\n",
       "      <td>2638106</td>\n",
       "      <td>57020</td>\n",
       "      <td>13561.044170781894</td>\n",
       "      <td>78317570.0</td>\n",
       "      <td>2.1613991249782987</td>\n",
       "      <td>14</td>\n",
       "    </tr>\n",
       "    <tr>\n",
       "      <th>353</th>\n",
       "      <td>California</td>\n",
       "      <td>5000764</td>\n",
       "      <td>73014</td>\n",
       "      <td>12641.43756224498</td>\n",
       "      <td>105713064.0</td>\n",
       "      <td>1.4617672019512653</td>\n",
       "      <td>15</td>\n",
       "    </tr>\n",
       "    <tr>\n",
       "      <th>372</th>\n",
       "      <td>Maryland</td>\n",
       "      <td>569823</td>\n",
       "      <td>11030</td>\n",
       "      <td>9425.292109407048</td>\n",
       "      <td>14461337.0</td>\n",
       "      <td>1.9356888016103249</td>\n",
       "      <td>15</td>\n",
       "    </tr>\n",
       "    <tr>\n",
       "      <th>374</th>\n",
       "      <td>Michigan</td>\n",
       "      <td>1346868</td>\n",
       "      <td>24308</td>\n",
       "      <td>13486.405182331138</td>\n",
       "      <td>17895743.0</td>\n",
       "      <td>1.8047796814535648</td>\n",
       "      <td>15</td>\n",
       "    </tr>\n",
       "    <tr>\n",
       "      <th>384</th>\n",
       "      <td>New York</td>\n",
       "      <td>2616725</td>\n",
       "      <td>56907</td>\n",
       "      <td>13451.1362726855</td>\n",
       "      <td>77645062.0</td>\n",
       "      <td>2.174741327422637</td>\n",
       "      <td>15</td>\n",
       "    </tr>\n",
       "    <tr>\n",
       "      <th>411</th>\n",
       "      <td>California</td>\n",
       "      <td>5036884</td>\n",
       "      <td>73720</td>\n",
       "      <td>12747.660388533444</td>\n",
       "      <td>108374406.0</td>\n",
       "      <td>1.463603291241172</td>\n",
       "      <td>16</td>\n",
       "    </tr>\n",
       "    <tr>\n",
       "      <th>430</th>\n",
       "      <td>Maryland</td>\n",
       "      <td>577013</td>\n",
       "      <td>11111</td>\n",
       "      <td>9544.220005028385</td>\n",
       "      <td>14741221.0</td>\n",
       "      <td>1.925606528795712</td>\n",
       "      <td>16</td>\n",
       "    </tr>\n",
       "    <tr>\n",
       "      <th>432</th>\n",
       "      <td>Michigan</td>\n",
       "      <td>1408419</td>\n",
       "      <td>24841</td>\n",
       "      <td>14102.725211745796</td>\n",
       "      <td>18329235.0</td>\n",
       "      <td>1.7637507020283028</td>\n",
       "      <td>16</td>\n",
       "    </tr>\n",
       "    <tr>\n",
       "      <th>442</th>\n",
       "      <td>New York</td>\n",
       "      <td>2665759</td>\n",
       "      <td>57158</td>\n",
       "      <td>13703.192952693853</td>\n",
       "      <td>79004607.0</td>\n",
       "      <td>2.1441548166957327</td>\n",
       "      <td>16</td>\n",
       "    </tr>\n",
       "    <tr>\n",
       "      <th>469</th>\n",
       "      <td>California</td>\n",
       "      <td>5049468</td>\n",
       "      <td>73856</td>\n",
       "      <td>12779.508761124374</td>\n",
       "      <td>108374406.0</td>\n",
       "      <td>1.4626491345226864</td>\n",
       "      <td>17</td>\n",
       "    </tr>\n",
       "    <tr>\n",
       "      <th>488</th>\n",
       "      <td>Maryland</td>\n",
       "      <td>578851</td>\n",
       "      <td>11129</td>\n",
       "      <td>9574.621878763017</td>\n",
       "      <td>14814741.0</td>\n",
       "      <td>1.9226018439978507</td>\n",
       "      <td>17</td>\n",
       "    </tr>\n",
       "    <tr>\n",
       "      <th>490</th>\n",
       "      <td>Michigan</td>\n",
       "      <td>1427191</td>\n",
       "      <td>24928</td>\n",
       "      <td>14290.692256833157</td>\n",
       "      <td>18329235.0</td>\n",
       "      <td>1.7466477857553755</td>\n",
       "      <td>17</td>\n",
       "    </tr>\n",
       "    <tr>\n",
       "      <th>500</th>\n",
       "      <td>New York</td>\n",
       "      <td>2679503</td>\n",
       "      <td>57215</td>\n",
       "      <td>13773.843256769287</td>\n",
       "      <td>79397218.0</td>\n",
       "      <td>2.1352840433468447</td>\n",
       "      <td>17</td>\n",
       "    </tr>\n",
       "    <tr>\n",
       "      <th>527</th>\n",
       "      <td>California</td>\n",
       "      <td>5023913</td>\n",
       "      <td>73405</td>\n",
       "      <td>12710.71485904501</td>\n",
       "      <td>107639081.0</td>\n",
       "      <td>1.4615854214594708</td>\n",
       "      <td>18</td>\n",
       "    </tr>\n",
       "    <tr>\n",
       "      <th>546</th>\n",
       "      <td>Maryland</td>\n",
       "      <td>573835</td>\n",
       "      <td>11086</td>\n",
       "      <td>9491.653544349023</td>\n",
       "      <td>14622070.0</td>\n",
       "      <td>1.9319142262148528</td>\n",
       "      <td>18</td>\n",
       "    </tr>\n",
       "    <tr>\n",
       "      <th>548</th>\n",
       "      <td>Michigan</td>\n",
       "      <td>1387938</td>\n",
       "      <td>24684</td>\n",
       "      <td>13897.645675711587</td>\n",
       "      <td>18115346.0</td>\n",
       "      <td>1.7784656086943365</td>\n",
       "      <td>18</td>\n",
       "    </tr>\n",
       "    <tr>\n",
       "      <th>558</th>\n",
       "      <td>New York</td>\n",
       "      <td>2644177</td>\n",
       "      <td>57053</td>\n",
       "      <td>13592.251824743038</td>\n",
       "      <td>78419054.0</td>\n",
       "      <td>2.1576846028083603</td>\n",
       "      <td>18</td>\n",
       "    </tr>\n",
       "    <tr>\n",
       "      <th>585</th>\n",
       "      <td>California</td>\n",
       "      <td>5037933</td>\n",
       "      <td>73731</td>\n",
       "      <td>12750.31526320349</td>\n",
       "      <td>108374406.0</td>\n",
       "      <td>1.4635168828168217</td>\n",
       "      <td>19</td>\n",
       "    </tr>\n",
       "    <tr>\n",
       "      <th>604</th>\n",
       "      <td>Maryland</td>\n",
       "      <td>578019</td>\n",
       "      <td>11121</td>\n",
       "      <td>9560.859985973455</td>\n",
       "      <td>14781411.0</td>\n",
       "      <td>1.9239851977184141</td>\n",
       "      <td>19</td>\n",
       "    </tr>\n",
       "    <tr>\n",
       "      <th>606</th>\n",
       "      <td>Michigan</td>\n",
       "      <td>1408419</td>\n",
       "      <td>24841</td>\n",
       "      <td>14102.725211745796</td>\n",
       "      <td>18329235.0</td>\n",
       "      <td>1.7637507020283028</td>\n",
       "      <td>19</td>\n",
       "    </tr>\n",
       "    <tr>\n",
       "      <th>616</th>\n",
       "      <td>New York</td>\n",
       "      <td>2674200</td>\n",
       "      <td>57190</td>\n",
       "      <td>13746.5834661325</td>\n",
       "      <td>79206076.0</td>\n",
       "      <td>2.138583501607957</td>\n",
       "      <td>19</td>\n",
       "    </tr>\n",
       "    <tr>\n",
       "      <th>643</th>\n",
       "      <td>California</td>\n",
       "      <td>4984384</td>\n",
       "      <td>72681</td>\n",
       "      <td>12605.962463817841</td>\n",
       "      <td>105092073.0</td>\n",
       "      <td>1.4591952933769343</td>\n",
       "      <td>20</td>\n",
       "    </tr>\n",
       "    <tr>\n",
       "      <th>662</th>\n",
       "      <td>Maryland</td>\n",
       "      <td>567085</td>\n",
       "      <td>10999</td>\n",
       "      <td>9380.003572799089</td>\n",
       "      <td>14369773.0</td>\n",
       "      <td>1.9395681423419768</td>\n",
       "      <td>20</td>\n",
       "    </tr>\n",
       "    <tr>\n",
       "      <th>664</th>\n",
       "      <td>Michigan</td>\n",
       "      <td>1319724</td>\n",
       "      <td>24027</td>\n",
       "      <td>13214.60795924083</td>\n",
       "      <td>17803074.0</td>\n",
       "      <td>1.8206079452976531</td>\n",
       "      <td>20</td>\n",
       "    </tr>\n",
       "    <tr>\n",
       "      <th>674</th>\n",
       "      <td>New York</td>\n",
       "      <td>2598730</td>\n",
       "      <td>56793</td>\n",
       "      <td>13358.633928256115</td>\n",
       "      <td>77162220.0</td>\n",
       "      <td>2.185413644357052</td>\n",
       "      <td>20</td>\n",
       "    </tr>\n",
       "    <tr>\n",
       "      <th>701</th>\n",
       "      <td>California</td>\n",
       "      <td>4989169</td>\n",
       "      <td>72857</td>\n",
       "      <td>12617.100789292468</td>\n",
       "      <td>105355709.0</td>\n",
       "      <td>1.4614375031216795</td>\n",
       "      <td>21</td>\n",
       "    </tr>\n",
       "    <tr>\n",
       "      <th>720</th>\n",
       "      <td>Maryland</td>\n",
       "      <td>567929</td>\n",
       "      <td>11014</td>\n",
       "      <td>9393.963954426965</td>\n",
       "      <td>14388228.0</td>\n",
       "      <td>1.9393269229076169</td>\n",
       "      <td>21</td>\n",
       "    </tr>\n",
       "    <tr>\n",
       "      <th>722</th>\n",
       "      <td>Michigan</td>\n",
       "      <td>1329089</td>\n",
       "      <td>24217</td>\n",
       "      <td>13308.381205418282</td>\n",
       "      <td>17803074.0</td>\n",
       "      <td>1.8220751206277384</td>\n",
       "      <td>21</td>\n",
       "    </tr>\n",
       "    <tr>\n",
       "      <th>732</th>\n",
       "      <td>New York</td>\n",
       "      <td>2603833</td>\n",
       "      <td>56828</td>\n",
       "      <td>13384.865629485525</td>\n",
       "      <td>77277726.0</td>\n",
       "      <td>2.1824748361358046</td>\n",
       "      <td>21</td>\n",
       "    </tr>\n",
       "    <tr>\n",
       "      <th>759</th>\n",
       "      <td>California</td>\n",
       "      <td>5009728</td>\n",
       "      <td>73111</td>\n",
       "      <td>12667.45229697656</td>\n",
       "      <td>106608220.0</td>\n",
       "      <td>1.4607032057911065</td>\n",
       "      <td>22</td>\n",
       "    </tr>\n",
       "    <tr>\n",
       "      <th>778</th>\n",
       "      <td>Maryland</td>\n",
       "      <td>571625</td>\n",
       "      <td>11061</td>\n",
       "      <td>9455.098516626751</td>\n",
       "      <td>14548741.0</td>\n",
       "      <td>1.9350098403673737</td>\n",
       "      <td>22</td>\n",
       "    </tr>\n",
       "    <tr>\n",
       "      <th>780</th>\n",
       "      <td>Michigan</td>\n",
       "      <td>1346868</td>\n",
       "      <td>24308</td>\n",
       "      <td>13486.405182331138</td>\n",
       "      <td>17999860.0</td>\n",
       "      <td>1.8047796814535648</td>\n",
       "      <td>22</td>\n",
       "    </tr>\n",
       "    <tr>\n",
       "      <th>790</th>\n",
       "      <td>New York</td>\n",
       "      <td>2626522</td>\n",
       "      <td>56944</td>\n",
       "      <td>13501.497232306208</td>\n",
       "      <td>78047146.0</td>\n",
       "      <td>2.1680381889053284</td>\n",
       "      <td>22</td>\n",
       "    </tr>\n",
       "  </tbody>\n",
       "</table>\n",
       "</div>"
      ],
      "text/plain": [
       "          State Confirmed Deaths  ...        Tests      Fatality_ratio Date\n",
       "5    California   5028939  73552  ...  107800398.0  1.4625749089420252    9\n",
       "24     Maryland    574914  11096  ...   14649998.0  1.9300277954615817    9\n",
       "26     Michigan   1387938  24684  ...   18209345.0  1.7784656086943365    9\n",
       "36     New York   2652280  57097  ...   78579801.0  2.1527515948542386    9\n",
       "63   California   4991264  72960  ...  105528939.0  1.4615352410080826   10\n",
       "82     Maryland    568914  11020  ...   14418694.0  1.9370238735555807   10\n",
       "84     Michigan   1329089  24217  ...   17895743.0  1.8220751206277384   10\n",
       "94     New York   2610481  56868  ...   77431122.0  2.1784491057395168   10\n",
       "121  California   5003487  73105  ...  105713064.0  1.4608430906048435   11\n",
       "140    Maryland    570806  11050  ...   14505234.0   1.935859118509616   11\n",
       "142    Michigan   1346868  24308  ...   17999860.0  1.8047796814535648   11\n",
       "152    New York   2622131  56922  ...   77844664.0  2.1708297564080508   11\n",
       "179  California   5013920  73233  ...  106608220.0  1.4609503548589422   12\n",
       "198    Maryland    572342  11068  ...   14575761.0  1.9338088066226136   12\n",
       "200    Michigan   1370035  24408  ...   17999860.0  1.7815603251011836   12\n",
       "210    New York   2633082  56976  ...   78203615.0   2.163852094237855   12\n",
       "237  California   5035053  73694  ...  107989717.0  1.4636191515759616   13\n",
       "256    Maryland    575996  11102  ...   14691151.0   1.927443940582921   13\n",
       "258    Michigan   1408419  24841  ...   18209345.0  1.7637507020283028   13\n",
       "268    New York   2659870  57141  ...   78797140.0  2.1482628850282155   13\n",
       "295  California   5018987  73299  ...  107384785.0   1.460820964681132   14\n",
       "314    Maryland    573044  11075  ...   14598220.0  1.9326613663174208   14\n",
       "316    Michigan   1370035  24408  ...   18115346.0  1.7815603251011836   14\n",
       "326    New York   2638106  57020  ...   78317570.0  2.1613991249782987   14\n",
       "353  California   5000764  73014  ...  105713064.0  1.4617672019512653   15\n",
       "372    Maryland    569823  11030  ...   14461337.0  1.9356888016103249   15\n",
       "374    Michigan   1346868  24308  ...   17895743.0  1.8047796814535648   15\n",
       "384    New York   2616725  56907  ...   77645062.0   2.174741327422637   15\n",
       "411  California   5036884  73720  ...  108374406.0   1.463603291241172   16\n",
       "430    Maryland    577013  11111  ...   14741221.0   1.925606528795712   16\n",
       "432    Michigan   1408419  24841  ...   18329235.0  1.7637507020283028   16\n",
       "442    New York   2665759  57158  ...   79004607.0  2.1441548166957327   16\n",
       "469  California   5049468  73856  ...  108374406.0  1.4626491345226864   17\n",
       "488    Maryland    578851  11129  ...   14814741.0  1.9226018439978507   17\n",
       "490    Michigan   1427191  24928  ...   18329235.0  1.7466477857553755   17\n",
       "500    New York   2679503  57215  ...   79397218.0  2.1352840433468447   17\n",
       "527  California   5023913  73405  ...  107639081.0  1.4615854214594708   18\n",
       "546    Maryland    573835  11086  ...   14622070.0  1.9319142262148528   18\n",
       "548    Michigan   1387938  24684  ...   18115346.0  1.7784656086943365   18\n",
       "558    New York   2644177  57053  ...   78419054.0  2.1576846028083603   18\n",
       "585  California   5037933  73731  ...  108374406.0  1.4635168828168217   19\n",
       "604    Maryland    578019  11121  ...   14781411.0  1.9239851977184141   19\n",
       "606    Michigan   1408419  24841  ...   18329235.0  1.7637507020283028   19\n",
       "616    New York   2674200  57190  ...   79206076.0   2.138583501607957   19\n",
       "643  California   4984384  72681  ...  105092073.0  1.4591952933769343   20\n",
       "662    Maryland    567085  10999  ...   14369773.0  1.9395681423419768   20\n",
       "664    Michigan   1319724  24027  ...   17803074.0  1.8206079452976531   20\n",
       "674    New York   2598730  56793  ...   77162220.0   2.185413644357052   20\n",
       "701  California   4989169  72857  ...  105355709.0  1.4614375031216795   21\n",
       "720    Maryland    567929  11014  ...   14388228.0  1.9393269229076169   21\n",
       "722    Michigan   1329089  24217  ...   17803074.0  1.8220751206277384   21\n",
       "732    New York   2603833  56828  ...   77277726.0  2.1824748361358046   21\n",
       "759  California   5009728  73111  ...  106608220.0  1.4607032057911065   22\n",
       "778    Maryland    571625  11061  ...   14548741.0  1.9350098403673737   22\n",
       "780    Michigan   1346868  24308  ...   17999860.0  1.8047796814535648   22\n",
       "790    New York   2626522  56944  ...   78047146.0  2.1680381889053284   22\n",
       "\n",
       "[56 rows x 7 columns]"
      ]
     },
     "execution_count": 33,
     "metadata": {},
     "output_type": "execute_result"
    }
   ],
   "source": [
    "check2 = df[df['State'].isin([\"Maryland\", \"New York\", \"Michigan\", \"California\"])]\n",
    "check2"
   ]
  },
  {
   "cell_type": "code",
   "execution_count": 34,
   "metadata": {
    "colab": {
     "base_uri": "https://localhost:8080/",
     "height": 521
    },
    "id": "vJWqAzZkqVcn",
    "outputId": "2c1dccae-639d-43c8-a818-e499687b0ba8"
   },
   "outputs": [
    {
     "name": "stderr",
     "output_type": "stream",
     "text": [
      "/usr/local/lib/python3.7/dist-packages/plotnine/utils.py:1246: FutureWarning: is_categorical is deprecated and will be removed in a future version.  Use is_categorical_dtype instead\n",
      "  if pdtypes.is_categorical(arr):\n"
     ]
    },
    {
     "data": {
      "image/png": "[encoded data removed]",
      "text/plain": [
       "<Figure size 640x480 with 1 Axes>"
      ]
     },
     "metadata": {},
     "output_type": "display_data"
    },
    {
     "data": {
      "text/plain": [
       "<ggplot: (8752952909373)>"
      ]
     },
     "execution_count": 34,
     "metadata": {},
     "output_type": "execute_result"
    }
   ],
   "source": [
    "(ggplot(check2, aes(x='Date', y='Deaths', group='State', color='State')) +\n",
    "        geom_line(alpha = 0.5)\n",
    ")"
   ]
  },
  {
   "cell_type": "markdown",
   "metadata": {
    "id": "iQx43K_fxi86"
   },
   "source": [
    "### Task 13"
   ]
  },
  {
   "cell_type": "markdown",
   "metadata": {
    "id": "Uob7W1IXxnGd"
   },
   "source": [
    "Texas plotted graph of how many deaths it faced compared to confirmed"
   ]
  },
  {
   "cell_type": "code",
   "execution_count": 72,
   "metadata": {
    "id": "m71kN6OG00Vc"
   },
   "outputs": [],
   "source": [
    "texas_df = df[df['State'] == \"Texas\"]"
   ]
  },
  {
   "cell_type": "code",
   "execution_count": 73,
   "metadata": {
    "colab": {
     "base_uri": "https://localhost:8080/",
     "height": 519
    },
    "id": "PcSwf_Gaxh8p",
    "outputId": "66e90039-9a75-49a0-ca0c-c0085400634a"
   },
   "outputs": [
    {
     "name": "stderr",
     "output_type": "stream",
     "text": [
      "/usr/local/lib/python3.7/dist-packages/plotnine/utils.py:1246: FutureWarning: is_categorical is deprecated and will be removed in a future version.  Use is_categorical_dtype instead\n",
      "  if pdtypes.is_categorical(arr):\n"
     ]
    },
    {
     "data": {
      "image/png": "[encoded data removed]",
      "text/plain": [
       "<Figure size 640x480 with 1 Axes>"
      ]
     },
     "metadata": {},
     "output_type": "display_data"
    },
    {
     "data": {
      "text/plain": [
       "<ggplot: (8752942072561)>"
      ]
     },
     "execution_count": 73,
     "metadata": {},
     "output_type": "execute_result"
    }
   ],
   "source": [
    "ggplot(texas_df,aes(x=\"Confirmed\",y=\"Deaths\", color='State')) + geom_point()"
   ]
  },
  {
   "cell_type": "markdown",
   "metadata": {
    "id": "TlPwxBs-0_ef"
   },
   "source": [
    "Checking how many deaths Texas has faced"
   ]
  },
  {
   "cell_type": "code",
   "execution_count": 71,
   "metadata": {
    "colab": {
     "base_uri": "https://localhost:8080/",
     "height": 519
    },
    "id": "nigNZwDL0aSe",
    "outputId": "3ad6ac2d-69f5-49e7-bf35-dbf7085d1cfd"
   },
   "outputs": [
    {
     "name": "stderr",
     "output_type": "stream",
     "text": [
      "/usr/local/lib/python3.7/dist-packages/plotnine/utils.py:1246: FutureWarning: is_categorical is deprecated and will be removed in a future version.  Use is_categorical_dtype instead\n",
      "  if pdtypes.is_categorical(arr):\n"
     ]
    },
    {
     "data": {
      "image/png": "[encoded data removed]",
      "text/plain": [
       "<Figure size 640x480 with 1 Axes>"
      ]
     },
     "metadata": {},
     "output_type": "display_data"
    },
    {
     "data": {
      "text/plain": [
       "<ggplot: (8752942205309)>"
      ]
     },
     "execution_count": 71,
     "metadata": {},
     "output_type": "execute_result"
    }
   ],
   "source": [
    "(ggplot(texas_df, aes(x='Date', y='Deaths', color='State')) +\n",
    "        geom_col()\n",
    ")"
   ]
  }
 ],
 "metadata": {
  "colab": {
   "collapsed_sections": [],
   "name": "malibasit.ipynb",
   "provenance": []
  },
  "kernelspec": {
   "display_name": "Python 3 (ipykernel)",
   "language": "python",
   "name": "python3"
  },
  "language_info": {
   "codemirror_mode": {
    "name": "ipython",
    "version": 3
   },
   "file_extension": ".py",
   "mimetype": "text/x-python",
   "name": "python",
   "nbconvert_exporter": "python",
   "pygments_lexer": "ipython3",
   "version": "3.9.6"
  }
 },
 "nbformat": 4,
 "nbformat_minor": 1
}
